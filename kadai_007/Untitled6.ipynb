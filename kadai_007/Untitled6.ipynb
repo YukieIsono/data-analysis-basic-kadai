{
  "nbformat": 4,
  "nbformat_minor": 0,
  "metadata": {
    "colab": {
      "provenance": []
    },
    "kernelspec": {
      "name": "python3",
      "display_name": "Python 3"
    },
    "language_info": {
      "name": "python"
    }
  },
  "cells": [
    {
      "cell_type": "code",
      "execution_count": null,
      "metadata": {
        "id": "nF9IZ-g-TFO_"
      },
      "outputs": [],
      "source": [
        "df = pd.merge(df, category_df[['商品番号', 'カテゴリー']], how='inner', on='商品番号')\n",
        "df\n",
        "\n",
        "\n",
        "import matplotlib.pyplot as plt\n",
        "import pandas as pd\n",
        "import japanize_matplotlib\n",
        "\n",
        "\n",
        "\n",
        "counts = df['カテゴリー']. value_counts()\n",
        "\n",
        "print(counts)\n",
        "\n",
        "counts.plot(kind='bar')\n",
        "\n",
        "plt.title('出現頻度の棒グラフ')\n",
        "plt.xlabel('ユニーク値')\n",
        "plt.ylabel('出現頻度')\n",
        "\n",
        "plt.show()\n",
        "\n",
        "display(df.groupby('注文数').sum())\n",
        "\n",
        "df.groupby('注文数')['単価'].describe()\n",
        "\n"
      ]
    }
  ]
}