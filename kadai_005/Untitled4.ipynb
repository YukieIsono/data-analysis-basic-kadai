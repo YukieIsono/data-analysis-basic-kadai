{
  "nbformat": 4,
  "nbformat_minor": 0,
  "metadata": {
    "colab": {
      "provenance": []
    },
    "kernelspec": {
      "name": "python3",
      "display_name": "Python 3"
    },
    "language_info": {
      "name": "python"
    }
  },
  "cells": [
    {
      "cell_type": "code",
      "execution_count": null,
      "metadata": {
        "id": "ERjQky1m3yN0"
      },
      "outputs": [],
      "source": [
        "import matplotlib.pyplot as plt\n",
        "import numpy as np\n",
        "\n",
        "fig, axes = plt.subplots(2,3, tight_layout=True)\n",
        "\n",
        "#1個目のグラフ\n",
        "y0 = [1,2,-5,2]\n",
        "axes[0,0].plot(y0)\n",
        "\n",
        "#２個目のグラフ\n",
        "x1 = np.linspace(0,10,100)\n",
        "y1 = 2 + 2 * np.sin(2*x1)\n",
        "axes[0,1].plot(x1, y1, linewidth=2.0)\n",
        "axes[0,1].set(xlim=(0,10), xticks=np.arange(0,10),\n",
        "ylim=(-1,5), yticks=np.arange(-1,6))\n",
        "\n",
        "\n",
        "#３個目のグラフ\n",
        "x3 = np.random .normal(15,5,1500)\n",
        "axes[0,2].set_xlim(-10, 30)\n",
        "axes[0,2].hist(x3, bins=10)\n",
        "\n",
        "np.random.seed(3)\n",
        "x = 4 + np.random.normal(0, 2.5, 60)\n",
        "y = 4 + np.random.normal(0, 2.5, len(x))\n",
        "\n",
        "# プロットする\n",
        "axes[1,0].scatter(x, y)\n",
        "\n",
        "\n",
        "plt.show()"
      ]
    }
  ]
}